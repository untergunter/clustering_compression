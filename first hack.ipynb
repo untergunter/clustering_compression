{
 "cells": [
  {
   "cell_type": "markdown",
   "metadata": {
    "jupyter": {
     "outputs_hidden": true
    }
   },
   "source": [
    "Document similarity:\n",
    "1. Compress and save the dictionary.\n",
    "2. Compare dictionaries.\n",
    "3. Simulated order to language.\n",
    "\n",
    "Dictionary resemblance:\n",
    "1. Does the combination appear?\n",
    "\n",
    "How many times does the combination appear?"
   ]
  },
  {
   "cell_type": "markdown",
   "metadata": {},
   "source": [
    "Compress is based on https://rosettacode.org/wiki/LZW_compression#Python"
   ]
  },
  {
   "cell_type": "code",
   "execution_count": 70,
   "metadata": {},
   "outputs": [],
   "source": [
    "import json\n",
    "import os\n",
    "from random import shuffle\n",
    "from tqdm import tqdm"
   ]
  },
  {
   "cell_type": "code",
   "execution_count": 68,
   "metadata": {},
   "outputs": [],
   "source": [
    "def compress(uncompressed):\n",
    "    \"\"\"Compress a string to a list of output symbols.\"\"\"\n",
    "    \n",
    "    last_char_id = 256\n",
    "    compression_dictionary = {chr(i): i for i in range(last_char_id)}\n",
    "    \n",
    "    w = \"\"\n",
    "    result = []\n",
    "    for c in uncompressed:\n",
    "        wc = w + c\n",
    "        if wc in compression_dictionary:\n",
    "            w = wc\n",
    "        else:\n",
    "            if not w in compression_dictionary:\n",
    "                compression_dictionary[w] = last_char_id\n",
    "                last_char_id += 1\n",
    "\n",
    "            result.append(compression_dictionary[w])\n",
    "            compression_dictionary[wc] = last_char_id\n",
    "            last_char_id += 1\n",
    "            w = c\n",
    "\n",
    "    # Output the code for w.\n",
    "    if w:\n",
    "        if not w in compression_dictionary:\n",
    "            compression_dictionary[w] = last_char_id\n",
    "        result.append(compression_dictionary[w])\n",
    "    return result,compression_dictionary\n",
    "\n",
    " \n",
    "def decompress(compressed):\n",
    "    \"\"\"Decompress a list of output ks to a string.\"\"\"\n",
    "    from io import StringIO\n",
    " \n",
    "    # Build the dictionary.\n",
    "    dict_size = 256\n",
    "    dictionary = dict((i, chr(i)) for i in range(dict_size))\n",
    "    # in Python 3: dictionary = {i: chr(i) for i in range(dict_size)}\n",
    " \n",
    "    # use StringIO, otherwise this becomes O(N^2)\n",
    "    # due to string concatenation in a loop\n",
    "    result = StringIO()\n",
    "    w = chr(compressed.pop(0))\n",
    "    result.write(w)\n",
    "    for k in compressed:\n",
    "        if k in dictionary:\n",
    "            entry = dictionary[k]\n",
    "        elif k == dict_size:\n",
    "            entry = w + w[0]\n",
    "        else:\n",
    "            raise ValueError('Bad compressed k: %s' % k)\n",
    "        result.write(entry)\n",
    " \n",
    "        # Add w+entry[0] to the dictionary.\n",
    "        dictionary[dict_size] = w + entry[0]\n",
    "        dict_size += 1\n",
    " \n",
    "        w = entry\n",
    "    return result.getvalue()"
   ]
  },
  {
   "cell_type": "code",
   "execution_count": 17,
   "metadata": {},
   "outputs": [
    {
     "name": "stdout",
     "output_type": "stream",
     "text": [
      "Warning: Your Kaggle API key is readable by other users on this system! To fix this, you can run 'chmod 600 /home/ido/.kaggle/kaggle.json'\n",
      "Downloading CORD-19-research-challenge.zip to /home/ido/data/idc/advanced ml/clustering_compression\n",
      "100%|█████████████████████████████████████▉| 8.56G/8.56G [14:51<00:00, 11.1MB/s]\n",
      "100%|██████████████████████████████████████| 8.56G/8.56G [14:51<00:00, 10.3MB/s]\n"
     ]
    }
   ],
   "source": [
    "# download the data\n",
    "!kaggle datasets download -d allen-institute-for-ai/CORD-19-research-challenge"
   ]
  },
  {
   "cell_type": "code",
   "execution_count": 18,
   "metadata": {},
   "outputs": [
    {
     "name": "stdout",
     "output_type": "stream",
     "text": [
      " CORD-19-research-challenge.zip  'first hack.ipynb'   README.md\n"
     ]
    }
   ],
   "source": [
    "!ls"
   ]
  },
  {
   "cell_type": "code",
   "execution_count": 3,
   "metadata": {},
   "outputs": [],
   "source": [
    "!unzip -q CORD-19-research-challenge.zip"
   ]
  },
  {
   "cell_type": "code",
   "execution_count": 8,
   "metadata": {},
   "outputs": [],
   "source": [
    "with open(r'document_parses/pmc_json/PMC7683814.xml.json') as f:\n",
    "    data = json.load(f)"
   ]
  },
  {
   "cell_type": "code",
   "execution_count": 22,
   "metadata": {},
   "outputs": [],
   "source": [
    "def get_body_text(path:str):\n",
    "    with open(path) as f:\n",
    "        data = json.load(f)\n",
    "        result =' '.join(body_part for body_part in (i['text'] for i in data['body_text']))\n",
    "        return result"
   ]
  },
  {
   "cell_type": "code",
   "execution_count": 23,
   "metadata": {},
   "outputs": [
    {
     "data": {
      "text/plain": [
       "'Temperatures were measured with TAT-2000 and TAT-5000 TemporalScanner thermometers (Exergen Corp, Watertown, MA) and the Athena Elevated Temperature Detection System (Athena Security, Austin, TX). Exergen reports their instruments to be accurate within 0.2°C and 0.1°C, respectively.3,4 The Athena telethermographic system uses artificial intelligence to detect human faces by measuring the temperature of multiple points on the face relative to a blackbody temperature reference source.5 According to Athena Security, the system is accurate within 0.3°C.5 Systems were purchased from Athena Security. Accepting manufacturer specifications, detecting 0.2°C difference between devices (assuming standard deviation of ±0.3°C) required 26 measurements from each device. One subject was measured 104 times with 4 different TAT-2000s (26 measurements per device) and 104 times with 4 different TAT-5000s (26 measurements per device) by a single operator, and 13 times with the Athena system at a single location within 90 minutes to minimize subject and environmental temperature variation. We repeated measurements with the same subject and thermometer operator at a second location with 3 additional TAT-5000s, 1 TAT-5000 used previously (104 measurements, 26 per device) and a second thermal camera (13 measurements). We simulated fever using air-activated hand warmers (HotHands, Kobayashi Americas, Dalton, GA) held to the forehead. Descriptive statistical analyses were performed with Stata version 15 SE software (StataCorp, College Station, TX). Summaries were reported as means with 95% confidence intervals and differences were tested by 1-way ANOVA. A 2-sided P < .05 was considered statistically significant. During the first session, the TAT-2000s measured higher temperatures [mean, 98.3°F (95% CI, 98.2–98.3) or 36.8°C (95% CI, 36.8–36.8)] than the TAT-5000s [mean, 97.8 °F (95% CI, 97.8–97.9) or 36.6°C (95% CI, 36.5–36.6)] or the Athena system [mean, 97.9°F (95% CI, 97.8–98.0) or 36.6°C (95% CI, 36.5–36.7)] (P < .05). There was no significant difference between the TAT-5000s and the Athena system [mean difference, −0.07°F (95% CI, −0.23 to 0.09) or −0.04°C (95% CI, −0.13 to 0.05)], but the TAT-2000s measured temperatures significantly higher than the Athena [mean difference, 0.40°F (95% CI, 0.24–0.56) or 0.22°C (95% CI, 0.13–0.31)]. During the second testing session, the TAT-5000s measured 0.34°F (95% CI, 0.20–0.48) or 0.19°C (95% CI, 0.11–0.26) [mean, 98.1°F (95% CI, 98.1–98.2) or 36.7°C (95% CI, 36.7–36.8)] higher than the Athena system [mean, 97.8°F (95% CI, 97.7–97.9) or 36.6°C (95% CI, 36.5–36.6)] (P < .05). HotHands warmers reached up to 46.1°C (115°F) 15–30 minutes after activation and were held at the forehead. A “symptomatic” individual in single-file line 6 feet (2 m) between “normal” individuals passing the camera at a rate of 1 individual per second, was detected in 8 of 8 attempts. Additionally, when the forehead was warmed and the warmer then removed, the Athena system was able to detect temperatures of >99°F or 37.2°C (Fig. 1) in 5 of 5 attempts. \\n\\n Screeners using TAT-5000s took a median of 16.5 seconds from the start of taking the temperature through cleaning the device until the thermometer was ready again. The Athena system has no effective delay from person to person passing in a single-file line. The COVID-19 pandemic has led to the implementation of temperature screening in a wide variety of facilities. Although temperature screening has been used in public settings during previous infectious diseases outbreaks,6–8 the usefulness of temperature screening to detect potential infections has been questioned.6,7 However, temperature screening may discourage symptomatic individuals from entering public places and may increase comfort for healthy people.8\\n Our study using noninvasive devices was not designed to test the accuracy of devices, though temporal scanners are widely considered reliable enough for professional use.9,10 In our use, temperatures measured by telethermographic systems were similar to those obtained by temporal scanners, suggesting similar performance. Cost is the biggest barrier to implementation for telethermographic systems. For our investment recovery analysis, we considered turnaround time difference between temporal scanners and a thermal camera for each screened individual at a high-entry location with large groups arriving in a short period, desired throughput rate of 1 person per second, maintaining 6-feet (2-m) social distancing and single-file lines for individual symptom screening. We estimated needing 6 temporal scanner operators for every 1 thermal camera operator. With our organization’s direct labor rates and overhead costs, investment recovery was estimated to occur in months, leading to adoption of 4 telethermographic systems at our 2 highest-entry locations. We reduced screening staff from 24 to 4 individuals, and there are now no waiting lines at these locations. In conclusion, our experience demonstrates that a telethermographic system improves screening throughput and reports temperatures similar to those recorded by temporal scanners, with acceptable investment recovery time.'"
      ]
     },
     "execution_count": 23,
     "metadata": {},
     "output_type": "execute_result"
    }
   ],
   "source": [
    "ex = get_body_text(r'document_parses/pmc_json/PMC7683814.xml.json')\n",
    "ex"
   ]
  },
  {
   "cell_type": "code",
   "execution_count": 31,
   "metadata": {},
   "outputs": [
    {
     "data": {
      "text/plain": [
       "'PMC7683814.xml.json'"
      ]
     },
     "execution_count": 31,
     "metadata": {},
     "output_type": "execute_result"
    }
   ],
   "source": [
    "folder = os.listdir(r'document_parses/pmc_json/')\n",
    "folder[0]"
   ]
  },
  {
   "cell_type": "code",
   "execution_count": 60,
   "metadata": {},
   "outputs": [],
   "source": [
    "def get_n_file_paths_from_foler(folder_path:str,n_files:int=10_000):\n",
    "    folder = os.listdir(folder_path)\n",
    "    shuffle(folder)\n",
    "    result = [folder_path+file for file in folder[:n_files]]\n",
    "    return result"
   ]
  },
  {
   "cell_type": "code",
   "execution_count": 72,
   "metadata": {},
   "outputs": [
    {
     "data": {
      "text/plain": [
       "'document_parses/pmc_json/PMC7400710'"
      ]
     },
     "execution_count": 72,
     "metadata": {},
     "output_type": "execute_result"
    }
   ],
   "source": [
    "files = get_n_file_paths_from_foler(r'document_parses/pmc_json/')\n",
    "files[0].split('.')[0]"
   ]
  },
  {
   "cell_type": "code",
   "execution_count": 74,
   "metadata": {},
   "outputs": [],
   "source": [
    "os.mkdir('data_for_compression')"
   ]
  },
  {
   "cell_type": "code",
   "execution_count": 75,
   "metadata": {},
   "outputs": [
    {
     "name": "stderr",
     "output_type": "stream",
     "text": [
      "Exception ignored in: <function tqdm.__del__ at 0x7f287d1d53a0>\n",
      "Traceback (most recent call last):\n",
      "  File \"/home/ido/anaconda3/envs/aml3/lib/python3.9/site-packages/tqdm/std.py\", line 1145, in __del__\n",
      "    self.close()\n",
      "  File \"/home/ido/anaconda3/envs/aml3/lib/python3.9/site-packages/tqdm/notebook.py\", line 283, in close\n",
      "    self.disp(bar_style='danger', check_delay=False)\n",
      "AttributeError: 'tqdm_notebook' object has no attribute 'disp'\n"
     ]
    }
   ],
   "source": [
    "for file in files:\n",
    "    text = get_body_text(file)\n",
    "    output_path = 'data_for_compression/' + file.split('pmc_json/')[-1].split('.')[0] +'.txt'\n",
    "    with open(output_path,'w') as f:\n",
    "        f.write(text)"
   ]
  },
  {
   "cell_type": "code",
   "execution_count": 56,
   "metadata": {},
   "outputs": [],
   "source": [
    "os.mkdir('compresed')"
   ]
  },
  {
   "cell_type": "code",
   "execution_count": 62,
   "metadata": {},
   "outputs": [
    {
     "data": {
      "text/plain": [
       "'PMC7126579'"
      ]
     },
     "execution_count": 62,
     "metadata": {},
     "output_type": "execute_result"
    }
   ],
   "source": [
    "files = get_n_file_paths_from_foler(r'data_for_compression/')\n",
    "files[0].split('/')[1].split('.')[0]"
   ]
  },
  {
   "cell_type": "code",
   "execution_count": 79,
   "metadata": {},
   "outputs": [
    {
     "name": "stderr",
     "output_type": "stream",
     "text": [
      "100%|██████████| 10000/10000 [01:30<00:00, 110.40it/s]\n"
     ]
    }
   ],
   "source": [
    "files = get_n_file_paths_from_foler(r'data_for_compression/')\n",
    "write_to = r'compresed/'\n",
    "for file in tqdm(files):\n",
    "    with open(file,'r') as f:\n",
    "        data = f.read()\n",
    "    compressed,dict_representation = compress(data)\n",
    "    file_output_name = file.split('/')[1].split('.')[0]\n",
    "    file_name = write_to + file_output_name +'.json'\n",
    "    with open(file_name, 'w') as fp:\n",
    "        json.dump(dict_representation, fp)"
   ]
  },
  {
   "cell_type": "code",
   "execution_count": null,
   "metadata": {},
   "outputs": [],
   "source": [
    "def read_all_jsons_in_path(path:str):\n",
    "    pass\n",
    "\n",
    "def compare_single(first:dict,second:dict):\n",
    "    pass\n",
    "\n",
    "def compere_single_to_many_file(path:str):\n",
    "    # read new file\n",
    "    # list_of_dicts = read_all_jsons_in_path()\n",
    "    # l =[compare_single(f1,f2) for f2 in list_of_dicts]\n",
    "    # sort l by simelarty metrix\n",
    "    # print file name of first file\n",
    "    pass"
   ]
  }
 ],
 "metadata": {
  "kernelspec": {
   "display_name": "Python 3",
   "language": "python",
   "name": "python3"
  },
  "language_info": {
   "codemirror_mode": {
    "name": "ipython",
    "version": 3
   },
   "file_extension": ".py",
   "mimetype": "text/x-python",
   "name": "python",
   "nbconvert_exporter": "python",
   "pygments_lexer": "ipython3",
   "version": "3.9.2"
  }
 },
 "nbformat": 4,
 "nbformat_minor": 4
}